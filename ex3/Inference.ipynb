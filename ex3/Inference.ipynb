{
 "cells": [
  {
   "cell_type": "code",
   "execution_count": 22,
   "metadata": {},
   "outputs": [],
   "source": [
    "from pathlib import Path\n",
    "import torch\n",
    "import torch.nn as nn\n",
    "from torch.utils.tensorboard.writer import SummaryWriter\n",
    "from config import get_config, latest_weights_file_path\n",
    "from train import get_model, get_ds, run_validation\n",
    "from translate import translate"
   ]
  },
  {
   "cell_type": "code",
   "execution_count": 23,
   "metadata": {},
   "outputs": [
    {
     "name": "stdout",
     "output_type": "stream",
     "text": [
      "Using device: cuda\n",
      "Max length of source sentence: 309\n",
      "Max length of target sentence: 274\n"
     ]
    },
    {
     "data": {
      "text/plain": [
       "<All keys matched successfully>"
      ]
     },
     "execution_count": 23,
     "metadata": {},
     "output_type": "execute_result"
    }
   ],
   "source": [
    "# Define the device\n",
    "device = torch.device(\"cuda\" if torch.cuda.is_available() else \"cpu\")\n",
    "print(\"Using device:\", device)\n",
    "config = get_config()\n",
    "train_dataloader, val_dataloader, tokenizer_src, tokenizer_tgt = get_ds(config)\n",
    "model = get_model(config, tokenizer_src.get_vocab_size(), tokenizer_tgt.get_vocab_size()).to(device)\n",
    "\n",
    "# Load the pretrained weights\n",
    "model_filename = latest_weights_file_path(config)\n",
    "state = torch.load(model_filename)\n",
    "model.load_state_dict(state['model_state_dict'])"
   ]
  },
  {
   "cell_type": "code",
   "execution_count": null,
   "metadata": {},
   "outputs": [
    {
     "name": "stdout",
     "output_type": "stream",
     "text": [
      "--------------------------------------------------------------------------------\n",
      "    SOURCE: The old man went along holding himself erect, moving with regular, long steps, turning out his toes, and with a precise and even motion that seemed to cost him no more effort than swinging his arms when walking, he laid the grass in a level high ridge, as if in play or as if the sharp scythe of its own accord whizzed through the juicy grass.\n",
      "    TARGET: Il vecchio, tenendosi diritto, andava avanti con un movimento eguale ed ampio delle gambe ricurve, e con un gesto preciso e uniforme, che ormai non gli costava, evidentemente, più che il dimenar delle braccia nel camminare, tagliava una falciata eguale, alta, come se giocasse. Proprio come se non lui, ma la falce affilata tagliasse da sola l’erba sugosa.\n",
      " PREDICTED: Il vecchio si avvicinò , si tolse il viso di sé con un lungo passo e , con un gesto , gli parve che non gli fosse più nulla di più , e che gli sembrava con un movimento , come se un campo avesse fatto un campo ricoperto di braccia , come se avesse fatto un campo simile contadino con un campo simile senso di legno .\n",
      "--------------------------------------------------------------------------------\n",
      "    SOURCE: Jane, you don't like my narrative; you look almost sick--shall I defer the rest to another day?\"\n",
      "    TARGET: \"Jane, la mia narrazione vi turba; voi soffrite; volete rimetter la fine a un altro giorno?\n",
      " PREDICTED: Jane , non volete che il mio colloquio , perché vi sarete la via da un giorno in un giorno ?\n",
      "--------------------------------------------------------------------------------\n",
      "    SOURCE: I took a small bottle of rum in my pocket, and gave Friday a large bag with more powder and bullets; and as to orders, I charged him to keep close behind me, and not to stir, or shoot, or do anything till I bid him, and in the meantime not to speak a word.\n",
      "    TARGET: Postomi in tasca un piccolo fiaschetto di rum, feci portare a Venerdì una bisaccia piena di polvere e di pallini e verghe di piombo, imponendogli di starmi sempre vicino e di non moversi o sparare o fare alcuna cosa, s’io non gliela comandava, ed intanto di non dire una parola.\n",
      " PREDICTED: una tavola , portai meco il pane e con una grande quantità di polvere e di polvere e di polvere come , e a o a con me , nè per dir vero , nè nè per altro che una parola .\n",
      "--------------------------------------------------------------------------------\n",
      "    SOURCE: She is just the same to me as a wife, just the same.\n",
      "    TARGET: È come se fosse mia moglie, proprio lo stesso.\n",
      " PREDICTED: È proprio come se mi è mia moglie , così è lo stesso .\n",
      "--------------------------------------------------------------------------------\n",
      "    SOURCE: 'Keep your temper,' said the Caterpillar.\n",
      "    TARGET: — Non arrabbiarti! — disse il Bruco.\n",
      " PREDICTED: — Senza dubbio , — disse il Bruco .\n",
      "--------------------------------------------------------------------------------\n",
      "    SOURCE: 'Yes, there was in him the triumph of successful vanity.\n",
      "    TARGET: “Sì, in lui c’era il trionfo del successo, della vanità.\n",
      " PREDICTED: — Sì , là là c ’ era l ’ unico tono di cui lo .\n",
      "--------------------------------------------------------------------------------\n",
      "    SOURCE: It will probably find them.'\n",
      "    TARGET: Ne troverà, probabilmente.\n",
      " PREDICTED: .\n",
      "--------------------------------------------------------------------------------\n",
      "    SOURCE: Indeed, just at that moment Karenin, with his deliberate, ungraceful gait, entered the drawing-room.\n",
      "    TARGET: — Infatti, proprio in quel momento, Aleksej Aleksandrovic con la sua andatura molle e sgraziata entrava nel salotto.\n",
      " PREDICTED: Certo , Aleksej Aleksandrovic , al momento in cui Aleksej Aleksandrovic , con la sua andatura , entrò nello studio .\n",
      "--------------------------------------------------------------------------------\n",
      "    SOURCE: Not, however, to go to bed: on the contrary, I began and dressed myself carefully.\n",
      "    TARGET: Quando fui tornata in camera mia, non rientrai nel letto.\n",
      " PREDICTED: Non solo andò a letto ; mi ordinò di andare a letto e mi misi a .\n",
      "--------------------------------------------------------------------------------\n",
      "    SOURCE: When they got to the real marsh, the object of their journey, Levin involuntarily wished to rid himself of Vasenka and go about unhindered.\n",
      "    TARGET: Avvicinandosi alla palude più grande, mèta prima del viaggio, Levin pensò involontariamente come liberarsi di Vasen’ka e procedere senza impedimenti.\n",
      " PREDICTED: Quando si alla palude , Levin , la gente , la gente , senza , e non si poteva .\n",
      "--------------------------------------------------------------------------------\n"
     ]
    }
   ],
   "source": [
    "writer = SummaryWriter(log_dir=\"runs/exp1\")\n",
    "run_validation(model, val_dataloader, tokenizer_src, tokenizer_tgt, config['seq_len'], device, lambda msg: print(msg), 0, writer, num_examples=10)"
   ]
  },
  {
   "cell_type": "code",
   "execution_count": 25,
   "metadata": {},
   "outputs": [
    {
     "name": "stdout",
     "output_type": "stream",
     "text": [
      "Using device: cuda\n",
      "    SOURCE: Why do I need to translate this?\n",
      " PREDICTED: Perché dovrei      "
     ]
    }
   ],
   "source": [
    "t = translate(\"Why do I need to translate this?\")"
   ]
  },
  {
   "cell_type": "code",
   "execution_count": null,
   "metadata": {},
   "outputs": [
    {
     "name": "stdout",
     "output_type": "stream",
     "text": [
      "Using device: cuda\n",
      "        ID: 34\n",
      "    SOURCE: And I came out immediately, for I trembled at the idea of being dragged forth by the said Jack.\n",
      "    TARGET: Uscii subito, perché mi sgomentavo al pensiero di esser condotta fuori dal mio nascondiglio da John.\n",
      " PREDICTED: E  dopo  a   la          .  "
     ]
    }
   ],
   "source": [
    "t = translate(34)\n",
    "writer.close()"
   ]
  }
 ],
 "metadata": {
  "kernelspec": {
   "display_name": "attention",
   "language": "python",
   "name": "python3"
  },
  "language_info": {
   "codemirror_mode": {
    "name": "ipython",
    "version": 3
   },
   "file_extension": ".py",
   "mimetype": "text/x-python",
   "name": "python",
   "nbconvert_exporter": "python",
   "pygments_lexer": "ipython3",
   "version": "3.9.18"
  }
 },
 "nbformat": 4,
 "nbformat_minor": 2
}
