{
 "cells": [
  {
   "cell_type": "code",
   "execution_count": 27,
   "metadata": {},
   "outputs": [],
   "source": [
    "from pathlib import Path\n",
    "import torch\n",
    "import torch.nn as nn\n",
    "from torch.utils.tensorboard.writer import SummaryWriter\n",
    "from config import get_config, latest_weights_file_path\n",
    "from train import get_model, get_ds, run_validation\n",
    "from translate import translate"
   ]
  },
  {
   "cell_type": "code",
   "execution_count": 28,
   "metadata": {},
   "outputs": [
    {
     "name": "stdout",
     "output_type": "stream",
     "text": [
      "Using device: cuda\n",
      "Max length of source sentence: 309\n",
      "Max length of target sentence: 274\n"
     ]
    },
    {
     "data": {
      "text/plain": [
       "<All keys matched successfully>"
      ]
     },
     "execution_count": 28,
     "metadata": {},
     "output_type": "execute_result"
    }
   ],
   "source": [
    "# Define the device\n",
    "device = torch.device(\"cuda\" if torch.cuda.is_available() else \"cpu\")\n",
    "print(\"Using device:\", device)\n",
    "config = get_config()\n",
    "train_dataloader, val_dataloader, tokenizer_src, tokenizer_tgt = get_ds(config)\n",
    "model = get_model(config, tokenizer_src.get_vocab_size(), tokenizer_tgt.get_vocab_size()).to(device)\n",
    "\n",
    "# Load the pretrained weights\n",
    "model_filename = latest_weights_file_path(config)\n",
    "state = torch.load(model_filename)\n",
    "model.load_state_dict(state['model_state_dict'])"
   ]
  },
  {
   "cell_type": "code",
   "execution_count": null,
   "metadata": {},
   "outputs": [
    {
     "name": "stdout",
     "output_type": "stream",
     "text": [
      "--------------------------------------------------------------------------------\n",
      "    SOURCE: The Lowood constraint still clings to you somewhat; controlling your features, muffling your voice, and restricting your limbs; and you fear in the presence of a man and a brother--or father, or master, or what you will--to smile too gaily, speak too freely, or move too quickly: but, in time, I think you will learn to be natural with me, as I find it impossible to be conventional with you; and then your looks and movements will have more vivacity and variety than they dare offer now.\n",
      "    TARGET: \"Siete sempre nelle pastoie messevi a Lowood, componete il volto, velate la voce, stringete le membra e temete avanti a un uomo, che è vostro fratello, vostro padre, il vostro padrone, o tutto quello che volete, infine; temete che il vostro sorriso sia troppo allegro, la vostra parola troppo pronta, i vostri movimenti troppo lesti. \"Ma spero che presto imparerete ad essere più spontanea con me, perché mi è impossibile di non essere tale con voi; allora i vostri movimenti e i vostri sguardi saranno più vivi e più variati.\n",
      " PREDICTED: \" Il signor Rochester non era più forte , né il vostro volto , né la vostra voce e le vostre parole ; il padre vi ha parlato e il padre di un uomo che vi ; ma non vi , come un sorriso , e vi , come un sorriso , come se non vi , ma vi .\n",
      "--------------------------------------------------------------------------------\n",
      "    SOURCE: Both were men respected for their characters and abilities.\n",
      "    TARGET: Erano persone stimabili per carattere e per ingegno.\n",
      " PREDICTED: Tutti e due erano per la loro mancanza di pace .\n",
      "--------------------------------------------------------------------------------\n",
      "    SOURCE: 'No, no!' she began again. 'I am not afraid of him.\n",
      "    TARGET: — No, no — prese a dire — non ho paura di lui, ho paura della morte.\n",
      " PREDICTED: — No , no — ella cominciò a dire . — Non ho paura di lui .\n",
      "--------------------------------------------------------------------------------\n",
      "    SOURCE: When, after evening tea and a row in the boat at night-time, Dolly entered her bedroom alone, took off her dress and sat down to do up her thin hair for the night, she felt great relief.\n",
      "    TARGET: Quando, dopo il tè della sera e una passeggiata notturna in barca, Dar’ja Aleksandrovna entrò sola nella sua stanza da letto e, toltosi il vestito, sedette ad accomodare per la notte i suoi capelli radi, sentì un gran sollievo.\n",
      " PREDICTED: Quando la sera dopo , il tè e una barca passò nella barca , Dolly andò sola , si alzò e , le spalle , si alzò per la notte , si sentì per la notte , per la notte , e si sentiva che per la notte era allegra .\n",
      "--------------------------------------------------------------------------------\n",
      "    SOURCE: Oh yes, that fat one; he is a great wit.\n",
      "    TARGET: È un bello spirito.\n",
      " PREDICTED: Oh sì , che è un ' altra .\n",
      "--------------------------------------------------------------------------------\n",
      "    SOURCE: You are to understand that now I had, as I may call it, two plantations in the island—one my little fortification or tent, with the wall about it, under the rock, with the cave behind me, which by this time I had enlarged into several apartments or caves, one within another.\n",
      "    TARGET: Permettetemi il farvi osservare che ora io aveva, come posso chiamarle, due abitazioni nell’isola. Una, la mia piccola fortificazione o tenda con la sua palizzata all’intorno, protetta dal monte, con una grotta scavata nel monte stesso, la quale in questo intervallo io aveva ampliata di separati spartimenti o più piccole grotte comunicanti l’una con l’altra.\n",
      " PREDICTED: Mi avete mostrato di capire che cosa mi avesse fatto , come ho detto , due o due o due o due o due o due o due o nell ’ ombra di cui mi avea , con la quale era , o nell ’ altro delle , o nell ’ altro delle delle .\n",
      "--------------------------------------------------------------------------------\n",
      "    SOURCE: 'I didn't know it was your table,' said Alice; 'it's laid for a great many more than three.'\n",
      "    TARGET: — Non sapevo che la tavola ti appartenesse, — rispose Alice; — è apparecchiata per più di tre.\n",
      " PREDICTED: — Non sapevo che il tuo tavolo di tè , — disse Alice ; — è molto più grande di tre .\n",
      "--------------------------------------------------------------------------------\n",
      "    SOURCE: But besides all this, what made divorce seem to Karenin more impossible than any other course was that by consenting to it he would by that very act ruin Anna.\n",
      "    TARGET: Inoltre, il divorzio sembrava ad Aleksej Aleksandrovic la cosa più inopportuna, perché, acconsentendo al divorzio, egli avrebbe proprio con questo fatto la rovina di Anna.\n",
      " PREDICTED: Ma tutto questo , in che cosa più difficile , Aleksej Aleksandrovic non si poteva mai parlare di quello che era accaduto , aspettava , che avrebbe fatto la causa di Anna Arkad ’ evna .\n",
      "--------------------------------------------------------------------------------\n",
      "    SOURCE: 'To do good, probably,' said the Prince, whose eyes were laughing.\n",
      "    TARGET: — Per far del bene, probabilmente — disse il principe, ridendo con gli occhi.\n",
      " PREDICTED: — Per piacere , bene — disse il principe , che gli occhi erano .\n",
      "--------------------------------------------------------------------------------\n",
      "    SOURCE: Perhaps, from the casement, standing hand-in-hand, they were watching the calm moonlight on the river, while from the distant halls the boisterous revelry floated in broken bursts of faint-heard din and tumult.\n",
      "    TARGET: Forse, dal vano della finestra, con le mani allacciate, essi guardavano la calma luce della luna sul fiume, mentre dalle sale lontane l’orgia strepitosa fluttuava in echi interrotti di cupo trambusto.\n",
      " PREDICTED: Forse , dalla finestra , si vedeva nella mano di lei , mentre si scorgeva la luna , la luna di luna , che si scorgeva sulla parete , mentre si sentiva l ’ odore delle pieghe del crepuscolo , e si sentiva .\n",
      "--------------------------------------------------------------------------------\n"
     ]
    }
   ],
   "source": [
    "run_validation(model, val_dataloader, tokenizer_src, tokenizer_tgt, config['seq_len'], device, lambda msg: print(msg), 0, None, num_examples=10)"
   ]
  },
  {
   "cell_type": "code",
   "execution_count": 30,
   "metadata": {},
   "outputs": [
    {
     "name": "stdout",
     "output_type": "stream",
     "text": [
      "Using device: cuda\n",
      "    SOURCE: Why do I need to translate this?\n",
      " PREDICTED: Perché dovrei      "
     ]
    }
   ],
   "source": [
    "t = translate(\"Why do I need to translate this?\")"
   ]
  },
  {
   "cell_type": "code",
   "execution_count": null,
   "metadata": {},
   "outputs": [
    {
     "name": "stdout",
     "output_type": "stream",
     "text": [
      "Using device: cuda\n",
      "        ID: 34\n",
      "    SOURCE: And I came out immediately, for I trembled at the idea of being dragged forth by the said Jack.\n",
      "    TARGET: Uscii subito, perché mi sgomentavo al pensiero di esser condotta fuori dal mio nascondiglio da John.\n",
      " PREDICTED: E  dopo  a   la          .  "
     ]
    }
   ],
   "source": [
    "t = translate(34)"
   ]
  }
 ],
 "metadata": {
  "kernelspec": {
   "display_name": "attention",
   "language": "python",
   "name": "python3"
  },
  "language_info": {
   "codemirror_mode": {
    "name": "ipython",
    "version": 3
   },
   "file_extension": ".py",
   "mimetype": "text/x-python",
   "name": "python",
   "nbconvert_exporter": "python",
   "pygments_lexer": "ipython3",
   "version": "3.9.18"
  }
 },
 "nbformat": 4,
 "nbformat_minor": 2
}
